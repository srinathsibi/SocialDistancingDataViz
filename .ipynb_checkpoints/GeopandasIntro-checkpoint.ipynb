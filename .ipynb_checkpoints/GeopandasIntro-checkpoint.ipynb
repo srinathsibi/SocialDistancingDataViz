{
 "cells": [
  {
   "cell_type": "markdown",
   "metadata": {},
   "source": [
    "Trying out Geopandas for the puposes of data visualization\n",
    "\n",
    "**Author: Srinath Sibi**\n",
    "\n",
    "**Email: ssibi@stanford.edu**"
   ]
  },
  {
   "cell_type": "code",
   "execution_count": 1,
   "metadata": {},
   "outputs": [
    {
     "ename": "SyntaxError",
     "evalue": "positional argument follows keyword argument (<ipython-input-1-0b1fa87fc8fd>, line 4)",
     "output_type": "error",
     "traceback": [
      "\u001b[0;36m  File \u001b[0;32m\"<ipython-input-1-0b1fa87fc8fd>\"\u001b[0;36m, line \u001b[0;32m4\u001b[0m\n\u001b[0;31m    ax = df.plot(figsize=(10,10) , alpha = 0.5, edgeco)\u001b[0m\n\u001b[0m                                               ^\u001b[0m\n\u001b[0;31mSyntaxError\u001b[0m\u001b[0;31m:\u001b[0m positional argument follows keyword argument\n"
     ]
    }
   ],
   "source": [
    "import geopandas\n",
    "\n",
    "df = geopandas.read_file(geopandas.datasets.get_path('nybb'))\n",
    "ax = df.plot(figsize=(10,10) , alpha = 0.5, edgecolor = 'k')"
   ]
  }
 ],
 "metadata": {
  "kernelspec": {
   "display_name": "Python 3",
   "language": "python",
   "name": "python3"
  },
  "language_info": {
   "codemirror_mode": {
    "name": "ipython",
    "version": 3
   },
   "file_extension": ".py",
   "mimetype": "text/x-python",
   "name": "python",
   "nbconvert_exporter": "python",
   "pygments_lexer": "ipython3",
   "version": "3.6.9"
  }
 },
 "nbformat": 4,
 "nbformat_minor": 4
}
